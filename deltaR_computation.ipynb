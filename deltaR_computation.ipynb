{
 "cells": [
  {
   "cell_type": "code",
   "execution_count": 1,
   "id": "f6de3f1c-a2b3-4adc-a786-f2bbab2568b8",
   "metadata": {},
   "outputs": [
    {
     "name": "stderr",
     "output_type": "stream",
     "text": [
      "Module libc not found.\n"
     ]
    },
    {
     "name": "stdout",
     "output_type": "stream",
     "text": [
      "Welcome to JupyROOT 6.28/02\n"
     ]
    }
   ],
   "source": [
    "import ROOT\n",
    "import os\n",
    "import numpy as np\n",
    "from lorenzetti_utils import dataframe_h\n",
    "ROOT.gROOT.ProcessLine(dataframe_h)\n",
    "ROOT.EnableImplicitMT()"
   ]
  },
  {
   "cell_type": "code",
   "execution_count": 2,
   "id": "327ab877-83ac-4fd0-b7f2-ac7b5eff0334",
   "metadata": {},
   "outputs": [
    {
     "data": {
      "text/plain": [
       "9998"
      ]
     },
     "execution_count": 2,
     "metadata": {},
     "output_type": "execute_result"
    }
   ],
   "source": [
    "filepath = '/home/lucas.nunes/data/lorenzetti/Zee.AOD.root'\n",
    "tfile = ROOT.TFile(filepath)\n",
    "tree = tfile.Get('physics')\n",
    "# chain.Add(filepath)\n",
    "tree.GetEntries()"
   ]
  },
  {
   "cell_type": "code",
   "execution_count": 3,
   "id": "11c08242-0505-4161-bd99-2f3c4024628b",
   "metadata": {},
   "outputs": [],
   "source": [
    "def get_deltaR(cluster_a, cluster_b):\n",
    "    deta = cluster_a.eta - cluster_b.eta\n",
    "    dphi = cluster_a.phi - cluster_b.phi\n",
    "    delta_r = np.sqrt((deta**2) + (dphi**2))\n",
    "    return delta_r"
   ]
  },
  {
   "cell_type": "code",
   "execution_count": 4,
   "id": "968525cd-999b-4771-9249-6d99c6d66d56",
   "metadata": {},
   "outputs": [
    {
     "ename": "Exception",
     "evalue": "Type xAOD::CaloCluster_t is not supported for jitting with numba. Valid fundamental types and RVecs thereof are ['float', 'double', 'int', 'unsigned int', 'long', 'unsigned long', 'bool']",
     "output_type": "error",
     "traceback": [
      "\u001b[0;31m---------------------------------------------------------------------------\u001b[0m",
      "\u001b[0;31mException\u001b[0m                                 Traceback (most recent call last)",
      "Cell \u001b[0;32mIn[4], line 2\u001b[0m\n\u001b[1;32m      1\u001b[0m \u001b[38;5;129;43m@ROOT\u001b[39;49m\u001b[38;5;241;43m.\u001b[39;49m\u001b[43mNumba\u001b[49m\u001b[38;5;241;43m.\u001b[39;49m\u001b[43mDeclare\u001b[49m\u001b[43m(\u001b[49m\u001b[43m[\u001b[49m\u001b[38;5;124;43m'\u001b[39;49m\u001b[38;5;124;43mxAOD::CaloCluster_t\u001b[39;49m\u001b[38;5;124;43m'\u001b[39;49m\u001b[43m]\u001b[49m\u001b[43m,\u001b[49m\u001b[43m \u001b[49m\u001b[38;5;124;43m\"\u001b[39;49m\u001b[38;5;124;43mfloat\u001b[39;49m\u001b[38;5;124;43m\"\u001b[39;49m\u001b[43m)\u001b[49m\n\u001b[0;32m----> 2\u001b[0m \u001b[38;5;28;43;01mdef\u001b[39;49;00m\u001b[43m \u001b[49m\u001b[38;5;21;43mget_cluster_deltaR\u001b[39;49m\u001b[43m(\u001b[49m\u001b[43mclusters_container\u001b[49m\u001b[43m)\u001b[49m\u001b[43m:\u001b[49m\n\u001b[1;32m      3\u001b[0m \u001b[43m    \u001b[49m\u001b[43msublead\u001b[49m\u001b[43m \u001b[49m\u001b[38;5;241;43m=\u001b[39;49m\u001b[43m \u001b[49m\u001b[38;5;28;43;01mNone\u001b[39;49;00m\n\u001b[1;32m      4\u001b[0m \u001b[43m    \u001b[49m\u001b[43mlead\u001b[49m\u001b[43m \u001b[49m\u001b[38;5;241;43m=\u001b[39;49m\u001b[43m \u001b[49m\u001b[38;5;28;43;01mNone\u001b[39;49;00m\n",
      "File \u001b[0;32m/physics/root/build/lib/ROOT/_numbadeclare.py:147\u001b[0m, in \u001b[0;36m_NumbaDeclareDecorator.<locals>.inner\u001b[0;34m(func, input_types, return_type, name)\u001b[0m\n\u001b[1;32m    142\u001b[0m \u001b[38;5;250m\u001b[39m\u001b[38;5;124;03m'''\u001b[39;00m\n\u001b[1;32m    143\u001b[0m \u001b[38;5;124;03mInner decorator without arguments, see outer decorator for documentation\u001b[39;00m\n\u001b[1;32m    144\u001b[0m \u001b[38;5;124;03m'''\u001b[39;00m\n\u001b[1;32m    146\u001b[0m \u001b[38;5;66;03m# Jit the given Python callable with numba\u001b[39;00m\n\u001b[0;32m--> 147\u001b[0m nb_return_type, nb_input_types \u001b[38;5;241m=\u001b[39m \u001b[43mget_numba_signature\u001b[49m\u001b[43m(\u001b[49m\u001b[43minput_types\u001b[49m\u001b[43m,\u001b[49m\u001b[43m \u001b[49m\u001b[43mreturn_type\u001b[49m\u001b[43m)\u001b[49m\n\u001b[1;32m    148\u001b[0m \u001b[38;5;28;01mtry\u001b[39;00m:\n\u001b[1;32m    149\u001b[0m     \u001b[38;5;28;01mif\u001b[39;00m nb_return_type \u001b[38;5;129;01mis\u001b[39;00m \u001b[38;5;129;01mnot\u001b[39;00m \u001b[38;5;28;01mNone\u001b[39;00m:\n",
      "File \u001b[0;32m/physics/root/build/lib/ROOT/_numbadeclare.py:130\u001b[0m, in \u001b[0;36m_NumbaDeclareDecorator.<locals>.get_numba_signature\u001b[0;34m(input_types, return_type)\u001b[0m\n\u001b[1;32m    128\u001b[0m         nb_input_types\u001b[38;5;241m.\u001b[39mappend(get_numba_type(get_inner_type(t))[:])\n\u001b[1;32m    129\u001b[0m     \u001b[38;5;28;01melse\u001b[39;00m:\n\u001b[0;32m--> 130\u001b[0m         nb_input_types\u001b[38;5;241m.\u001b[39mappend(\u001b[43mget_numba_type\u001b[49m\u001b[43m(\u001b[49m\u001b[43mt\u001b[49m\u001b[43m)\u001b[49m)\n\u001b[1;32m    131\u001b[0m \u001b[38;5;28;01mif\u001b[39;00m return_type \u001b[38;5;129;01mis\u001b[39;00m \u001b[38;5;129;01mnot\u001b[39;00m \u001b[38;5;28;01mNone\u001b[39;00m:\n\u001b[1;32m    132\u001b[0m     \u001b[38;5;28;01mif\u001b[39;00m \u001b[38;5;124m'\u001b[39m\u001b[38;5;124mRVec\u001b[39m\u001b[38;5;124m'\u001b[39m \u001b[38;5;129;01min\u001b[39;00m return_type:\n",
      "File \u001b[0;32m/physics/root/build/lib/ROOT/_numbadeclare.py:91\u001b[0m, in \u001b[0;36m_NumbaDeclareDecorator.<locals>.get_numba_type\u001b[0;34m(t)\u001b[0m\n\u001b[1;32m     89\u001b[0m \u001b[38;5;28;01mif\u001b[39;00m t \u001b[38;5;129;01min\u001b[39;00m typemap:\n\u001b[1;32m     90\u001b[0m     \u001b[38;5;28;01mreturn\u001b[39;00m typemap[t]\n\u001b[0;32m---> 91\u001b[0m \u001b[38;5;28;01mraise\u001b[39;00m \u001b[38;5;167;01mException\u001b[39;00m(\n\u001b[1;32m     92\u001b[0m         \u001b[38;5;124m'\u001b[39m\u001b[38;5;124mType \u001b[39m\u001b[38;5;132;01m{}\u001b[39;00m\u001b[38;5;124m is not supported for jitting with numba. Valid fundamental types and RVecs thereof are \u001b[39m\u001b[38;5;132;01m{}\u001b[39;00m\u001b[38;5;124m'\u001b[39m\u001b[38;5;241m.\u001b[39mformat(\n\u001b[1;32m     93\u001b[0m             t, \u001b[38;5;28mlist\u001b[39m(typemap\u001b[38;5;241m.\u001b[39mkeys())))\n",
      "\u001b[0;31mException\u001b[0m: Type xAOD::CaloCluster_t is not supported for jitting with numba. Valid fundamental types and RVecs thereof are ['float', 'double', 'int', 'unsigned int', 'long', 'unsigned long', 'bool']"
     ]
    }
   ],
   "source": [
    "@ROOT.Numba.Declare(['xAOD::CaloCluster_t'], \"float\")\n",
    "def get_cluster_deltaR(clusters_container):\n",
    "    sublead = None\n",
    "    lead = None\n",
    "    sublead_et = -np.inf\n",
    "    lead_et = -np.inf\n",
    "    for cluster in clusters_container:\n",
    "        if cluster.et >= lead_et:\n",
    "            sublead = lead\n",
    "            lead = cluster\n",
    "            sublead_et = lead_et\n",
    "            lead_et = cluster.et\n",
    "        elif cluster.et >= sublead_et:\n",
    "            sublead = cluster\n",
    "            sublead_et = cluster.et\n",
    "\n",
    "    return get_deltaR(lead, sublead)"
   ]
  },
  {
   "cell_type": "code",
   "execution_count": null,
   "id": "f23ad847-b529-4c1c-8105-c9f75627f6ac",
   "metadata": {},
   "outputs": [],
   "source": [
    "for i, event in enumerate(tree):\n",
    "    event.deltaR = get_cluster_deltaR(event.CaloClusterContainer_Clusters)\n",
    "    break"
   ]
  },
  {
   "cell_type": "code",
   "execution_count": null,
   "id": "042ad1db-c9d0-4599-9477-9d7612826e60",
   "metadata": {},
   "outputs": [],
   "source": [
    "@ROOT.Numba.Declare(['RVec<float>'], \"float\")\n",
    "def biggest_energy(energy):\n",
    "    return max(energy)"
   ]
  },
  {
   "cell_type": "code",
   "execution_count": null,
   "id": "dbd637b5-9ff5-4869-b4e3-df0e9d3b3305",
   "metadata": {},
   "outputs": [],
   "source": [
    "rdf = ROOT.RDataFrame(tree)\n",
    "new_rdf = rdf.Define('biggest_energy', 'Numba::biggest_energy(CaloClusterContainer_Clusters)')\n",
    "new_rdf.Describe()"
   ]
  },
  {
   "cell_type": "code",
   "execution_count": null,
   "id": "0b2faa5c-cf5f-40b8-98a8-2092277c3f1c",
   "metadata": {},
   "outputs": [],
   "source": [
    "new_rdf.Snapshot('tree', 'snapshot_test.root', 'biggest_energy')"
   ]
  }
 ],
 "metadata": {
  "kernelspec": {
   "display_name": "Python 3 (ipykernel)",
   "language": "python",
   "name": "python3"
  },
  "language_info": {
   "codemirror_mode": {
    "name": "ipython",
    "version": 3
   },
   "file_extension": ".py",
   "mimetype": "text/x-python",
   "name": "python",
   "nbconvert_exporter": "python",
   "pygments_lexer": "ipython3",
   "version": "3.8.10"
  }
 },
 "nbformat": 4,
 "nbformat_minor": 5
}
